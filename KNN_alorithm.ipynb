{
 "cells": [
  {
   "cell_type": "code",
   "execution_count": 1,
   "metadata": {},
   "outputs": [],
   "source": [
    "import numpy as np\n",
    "import pandas as pd\n",
    "import matplotlib.pyplot as plt\n",
    "from sklearn.model_selection import train_test_split\n",
    "\n"
   ]
  },
  {
   "cell_type": "code",
   "execution_count": 2,
   "metadata": {},
   "outputs": [],
   "source": [
    "df=pd.read_csv(\"Book1.csv\",header=None,names=[\"User Id\",\"Gender\",\"Age\",\"salary\",\"purchased\"])\n",
    "X=df.iloc[:,[2,3]].values\n",
    "y=df.iloc[:,4].values\n",
    "\n"
   ]
  },
  {
   "cell_type": "code",
   "execution_count": 3,
   "metadata": {},
   "outputs": [],
   "source": [
    "import collections\n",
    "def euclidean_distance(x1,x2):\n",
    "    return np.sqrt(np.sum(x1-x2)**2)\n",
    "\n",
    "def KNN_predict(X_train1,y_train1,X_test1,k1):\n",
    "    y_pred=[]\n",
    "    for i in range(len(X_test1)):\n",
    "        distance=[euclidean_distance(X_test1[i],x) for x in X_train1]\n",
    "        k_idx=np.argsort(distance)[:k1]\n",
    "        k_labels=[y_train1[idx] for idx in k_idx]\n",
    "        most_common=collections.Counter(k_labels).most_common(1)\n",
    "        y_pred.append(most_common[0][0])\n",
    "    return np.array(y_pred)\n",
    "\n"
   ]
  },
  {
   "cell_type": "code",
   "execution_count": 4,
   "metadata": {},
   "outputs": [
    {
     "name": "stdout",
     "output_type": "stream",
     "text": [
      "accuracy: 80.0\n"
     ]
    }
   ],
   "source": [
    "k=3\n",
    "X_train,X_test,y_train,y_test=train_test_split(X,y,test_size=0.2,random_state=0)\n",
    "y_pred=KNN_predict(X_train,y_train,X_test,k)\n",
    "accuracy=np.sum((y_pred == y_test) /len(y_test) *100)\n",
    "print(\"accuracy: {}\".format(accuracy))"
   ]
  }
 ],
 "metadata": {
  "kernelspec": {
   "display_name": "Python 3",
   "language": "python",
   "name": "python3"
  },
  "language_info": {
   "codemirror_mode": {
    "name": "ipython",
    "version": 3
   },
   "file_extension": ".py",
   "mimetype": "text/x-python",
   "name": "python",
   "nbconvert_exporter": "python",
   "pygments_lexer": "ipython3",
   "version": "3.10.5"
  },
  "orig_nbformat": 4
 },
 "nbformat": 4,
 "nbformat_minor": 2
}
