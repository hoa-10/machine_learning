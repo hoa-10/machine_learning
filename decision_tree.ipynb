{
 "cells": [
  {
   "cell_type": "code",
   "execution_count": 25,
   "metadata": {},
   "outputs": [],
   "source": [
    "import numpy as np\n",
    "import pandas as pd\n",
    "from sklearn.model_selection import train_test_split"
   ]
  },
  {
   "cell_type": "code",
   "execution_count": 26,
   "metadata": {},
   "outputs": [],
   "source": [
    "def entropy(y):\n",
    "    unique, count = np.unique(y, return_counts=True)\n",
    "    probabilities = count / len(y)\n",
    "    return -np.sum( probabilities + np.log2(probabilities))\n",
    "\n",
    "def information(y, splits):\n",
    "    total_entropy = entropy(y)\n",
    "    weighted_entropy =0\n",
    "    for split in splits:\n",
    "        weighted_entropy+= len(split) / len(y) * entropy(split)\n",
    "    return total_entropy -weighted_entropy"
   ]
  },
  {
   "cell_type": "code",
   "execution_count": 27,
   "metadata": {},
   "outputs": [],
   "source": [
    "def find_best_split(X,y):\n",
    "    best_split = None\n",
    "    best_gain = 0\n",
    "    for feature in range(X.shape[1]):\n",
    "        unique_value = set(X[:,feature])\n",
    "        for value in unique_value:\n",
    "            left_mask = X[:, feature] <= value\n",
    "            right_mask = X[:, feature] > value\n",
    "            splits = [y[left_mask], y[right_mask]]\n",
    "            gain = information(y, splits)\n",
    "            if gain > best_gain:\n",
    "                best_split = (feature,value)\n",
    "                best_gain = gain\n",
    "    return best_split\n",
    "def build_decision_tree(X,y,max_depth=None, depth = 0):\n",
    "    if depth == max_depth or len(set(y)) == 1:\n",
    "        return max(set(y), key = list(y).count)\n",
    "    else:\n",
    "        depth += 1\n",
    "        best_split = find_best_split(X,y)\n",
    "        if best_split is None:\n",
    "            return max(set(y), key = list(y).count)\n",
    "        feature, value = best_split\n",
    "        left_mask = X[:, feature] <= value\n",
    "        right_mask = X[:, feature] > value\n",
    "        left_subtree = build_decision_tree(X[left_mask], y[left_mask], max_depth, depth)\n",
    "        right_subtree = build_decision_tree(X[right_mask],y[right_mask], max_depth, depth)\n",
    "        return (feature, value, left_subtree,right_subtree)\n",
    "def predict_decision_tree(tree, x):\n",
    "    if isinstance(tree, tuple):\n",
    "        feature, value, left_subtree, right_subtree = tree\n",
    "        if x[feature] <= value:\n",
    "            return predict_decision_tree(left_subtree,x)\n",
    "        else:\n",
    "           return predict_decision_tree(right_subtree,x)\n",
    "    else:\n",
    "        return tree\n",
    "  "
   ]
  },
  {
   "cell_type": "code",
   "execution_count": 28,
   "metadata": {},
   "outputs": [
    {
     "name": "stdout",
     "output_type": "stream",
     "text": [
      "[1, 0, 0, 1]\n"
     ]
    }
   ],
   "source": [
    "X = np.array([[1, 2], [2, 1], [3, 2], [4, 1]])\n",
    "y = np.array([0, 1, 0, 1])\n",
    "X_new = np.array([[2, 1], [3, 2], [5, 2], [3, 1]])\n",
    "tree = build_decision_tree(X, y, max_depth=2)\n",
    "print([predict_decision_tree(tree, x) for x in X_new])"
   ]
  }
 ],
 "metadata": {
  "kernelspec": {
   "display_name": "Python 3",
   "language": "python",
   "name": "python3"
  },
  "language_info": {
   "codemirror_mode": {
    "name": "ipython",
    "version": 3
   },
   "file_extension": ".py",
   "mimetype": "text/x-python",
   "name": "python",
   "nbconvert_exporter": "python",
   "pygments_lexer": "ipython3",
   "version": "3.10.5"
  }
 },
 "nbformat": 4,
 "nbformat_minor": 2
}
