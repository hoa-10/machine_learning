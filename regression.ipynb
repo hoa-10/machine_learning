{
 "cells": [
  {
   "cell_type": "code",
   "execution_count": 1,
   "metadata": {},
   "outputs": [],
   "source": [
    "import scipy as cp\n",
    "import numpy as np\n",
    "import matplotlib.pyplot\n",
    "import pandas as pd\n",
    "from sklearn.model_selection import train_test_split"
   ]
  },
  {
   "cell_type": "code",
   "execution_count": 2,
   "metadata": {},
   "outputs": [
    {
     "name": "stdout",
     "output_type": "stream",
     "text": [
      "(1599, 12)\n",
      "(1599, 11)\n",
      "      quality\n",
      "0           5\n",
      "1           5\n",
      "2           5\n",
      "3           6\n",
      "4           5\n",
      "...       ...\n",
      "1594        5\n",
      "1595        6\n",
      "1596        6\n",
      "1597        5\n",
      "1598        6\n",
      "\n",
      "[1599 rows x 1 columns]\n"
     ]
    }
   ],
   "source": [
    "data= pd.read_csv(\"winequality_red.csv\")\n",
    "print(data.shape)\n",
    "X= data.iloc[:,[0,1,2,3,4,5,6,7,8,9,10]]\n",
    "y= data.iloc[:,[11]]\n",
    "print(X.shape)\n",
    "print(y)\n"
   ]
  },
  {
   "cell_type": "code",
   "execution_count": 3,
   "metadata": {},
   "outputs": [
    {
     "name": "stdout",
     "output_type": "stream",
     "text": [
      "The predicted value of y is: [5.07465154]\n",
      "The MSE of the model is: [quality    0.0\n",
      "dtype: float64]\n",
      "(11, 1)\n"
     ]
    },
    {
     "name": "stderr",
     "output_type": "stream",
     "text": [
      "c:\\Users\\user\\AppData\\Local\\Programs\\Python\\Python310\\lib\\site-packages\\numpy\\core\\fromnumeric.py:86: FutureWarning: The behavior of DataFrame.sum with axis=None is deprecated, in a future version this will reduce over both axes and return a scalar. To retain the old behavior, pass axis=0 (or do not pass axis)\n",
      "  return reduction(axis=axis, out=out, **passkwargs)\n"
     ]
    }
   ],
   "source": [
    "def predict(x, theta):\n",
    "    return np.dot(x, theta)\n",
    "\n",
    "def cost_func(x, y, theta):\n",
    "    m = len(y)\n",
    "    prediction = predict(x, theta)\n",
    "    cost =  np.sum((prediction - y) ** 2)// (2*m)\n",
    "    return cost\n",
    "\n",
    "def update_weight(x, y, theta):\n",
    "    new_theta = np.linalg.inv(np.dot(x.T, x)).dot(x.T).dot(y)\n",
    "    return new_theta\n",
    "\n",
    "def training(x, y, theta):\n",
    "    cost_history=[]\n",
    "    theta = update_weight(x, y, theta)\n",
    "    cost_function = cost_func(x, y, theta)\n",
    "    cost_history.append(cost_function)\n",
    "    return cost_history,theta\n",
    "\n",
    "X_train, X_test, y_train, y_test = train_test_split(X, y, test_size=0.3, random_state=0)\n",
    "theta = np.zeros(X_train.shape[1])\n",
    "MSE, theta = training(X_train, y_train, theta)\n",
    "\n",
    "X_new = np.array([7.8,0.85,0.0,2.6,0.092,25.0,67.0,0.9968,3.2,0.68,9.6])\n",
    "y_predict = predict(X_new, theta)\n",
    "\n",
    "print(f\"The predicted value of y is: {y_predict}\")\n",
    "print(f\"The MSE of the model is: {MSE}\")\n",
    "print(theta.shape)"
   ]
  },
  {
   "cell_type": "code",
   "execution_count": null,
   "metadata": {},
   "outputs": [],
   "source": []
  }
 ],
 "metadata": {
  "kernelspec": {
   "display_name": "Python 3",
   "language": "python",
   "name": "python3"
  },
  "language_info": {
   "codemirror_mode": {
    "name": "ipython",
    "version": 3
   },
   "file_extension": ".py",
   "mimetype": "text/x-python",
   "name": "python",
   "nbconvert_exporter": "python",
   "pygments_lexer": "ipython3",
   "version": "3.10.5"
  }
 },
 "nbformat": 4,
 "nbformat_minor": 2
}
