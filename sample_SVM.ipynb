{
 "cells": [
  {
   "cell_type": "code",
   "execution_count": 13,
   "metadata": {},
   "outputs": [],
   "source": [
    "import numpy as np\n",
    "import pandas as pd\n",
    "from sklearn.model_selection import train_test_split"
   ]
  },
  {
   "cell_type": "code",
   "execution_count": 14,
   "metadata": {},
   "outputs": [
    {
     "name": "stdout",
     "output_type": "stream",
     "text": [
      "(5, 8)\n",
      "(5,)\n"
     ]
    }
   ],
   "source": [
    "data = pd.read_csv(\"svm.csv\")\n",
    "X = data.iloc[:,[0,1,2,3,4,5,6,7]].values\n",
    "y = data[\"target_class\"]\n",
    "print(X.shape)\n",
    "print(y.shape)"
   ]
  },
  {
   "cell_type": "code",
   "execution_count": 15,
   "metadata": {},
   "outputs": [],
   "source": [
    "def update_weight(X,y,learning_rate, loop,lamda):\n",
    "    m,n = X.shape\n",
    "    w = np.zeros(n)\n",
    "    b = 0\n",
    "    for _ in range(loop):\n",
    "        y_label = np.where(y <= 0, -1, 1)\n",
    "        for index, x_i in enumerate(X):\n",
    "            condition = y_label[index] *( np.dot(x_i ,w) -b)\n",
    "            if condition :\n",
    "                dw = 2* lamda * w\n",
    "                db =0\n",
    "            else:\n",
    "                dw = 2*lamda*w - np.dot(x_i, y_label[index])\n",
    "                db = y_label[index]\n",
    "            w = w -learning_rate*dw\n",
    "            b = b - learning_rate*db\n",
    "    return w, b\n",
    "\n",
    "    "
   ]
  },
  {
   "cell_type": "code",
   "execution_count": 16,
   "metadata": {},
   "outputs": [],
   "source": [
    "def loss_function(X,y,w,b,lamda):\n",
    "    n = len(y)\n",
    "    y_label = np.where(y <=0 , -1, 1)\n",
    "    margin = 1 - y_label * (np.dot(X,w) -b)\n",
    "    margin[margin < 0] = 0\n",
    "    return 1/2 * np.dot(w,w) + lamda * np.sum( margin) / n\n"
   ]
  },
  {
   "cell_type": "code",
   "execution_count": 17,
   "metadata": {},
   "outputs": [],
   "source": [
    "def predict(X,b,w):\n",
    "    score = np.dot(X,w) - b\n",
    "    predict_label = np.sign(score)\n",
    "    y_predict = np.where(predict_label <=-1 ,0, 1)\n",
    "    return y_predict"
   ]
  },
  {
   "cell_type": "code",
   "execution_count": 18,
   "metadata": {},
   "outputs": [
    {
     "name": "stdout",
     "output_type": "stream",
     "text": [
      " the accuracy of moduel : 0.027244494811389165\n",
      " y predict of moduel : 1\n"
     ]
    }
   ],
   "source": [
    "X_train,X_test, y_train, y_test  = train_test_split(X,y,test_size=0.3,random_state=0)\n",
    "learning_rate = 0.1\n",
    "loop = 1000\n",
    "lamda = 0.01\n",
    "weight, bias = update_weight(X_train,y_train,learning_rate, loop, lamda)\n",
    "X_test = np.array([140.5625,55.683782,-0.234571,-0.699648,3.199833,19.110426,7.975532,74.242225])\n",
    "mse = loss_function(X_test,y_train,weight,bias, lamda)\n",
    "print(f\" the accuracy of moduel : { mse}\")\n",
    "y_pred = predict(X_test, bias , weight)\n",
    "print(f\" y predict of moduel : { y_pred}\")\n"
   ]
  }
 ],
 "metadata": {
  "kernelspec": {
   "display_name": "Python 3",
   "language": "python",
   "name": "python3"
  },
  "language_info": {
   "codemirror_mode": {
    "name": "ipython",
    "version": 3
   },
   "file_extension": ".py",
   "mimetype": "text/x-python",
   "name": "python",
   "nbconvert_exporter": "python",
   "pygments_lexer": "ipython3",
   "version": "3.10.5"
  }
 },
 "nbformat": 4,
 "nbformat_minor": 2
}
