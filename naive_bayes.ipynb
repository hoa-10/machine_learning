{
 "cells": [
  {
   "cell_type": "code",
   "execution_count": 7,
   "metadata": {},
   "outputs": [],
   "source": [
    "import numpy as np\n",
    "import pandas as pd\n",
    "from sklearn.model_selection import train_test_split"
   ]
  },
  {
   "cell_type": "code",
   "execution_count": 8,
   "metadata": {},
   "outputs": [
    {
     "name": "stdout",
     "output_type": "stream",
     "text": [
      "(100, 2)\n",
      "(100, 1)\n"
     ]
    }
   ],
   "source": [
    "data=pd.read_csv(\"data1.csv\",header=None,\n",
    "                 names=[\"ex1\",\"ex2\",\"result\"])\n",
    "X=data.iloc[:,[0,1]].values\n",
    "y=data.iloc[:,[2]].values\n",
    "print(X.shape)\n",
    "print(y.shape)\n",
    "# X: 118x2\n",
    "# y: 118x1\n"
   ]
  },
  {
   "cell_type": "code",
   "execution_count": 9,
   "metadata": {},
   "outputs": [
    {
     "name": "stdout",
     "output_type": "stream",
     "text": [
      "y predict is : [0.68333333 0.68333333]\n",
      "accuracy of module is : 54.88888888888889\n",
      "u_ci2 : 103.05033189406026 , phi_ci2 : -37.78512169448872\n"
     ]
    }
   ],
   "source": [
    "n=np.sum(y)\n",
    "def parameter(x,y):\n",
    "    u_ci   =  ( 1/n) * np.sum(np.dot(y.T,x))\n",
    "    phi_ci =  (1/n)  * np.sum(np.dot(y.T,(x - u_ci)))\n",
    "    return u_ci,phi_ci\n",
    "def naive_bayes(x, y, u_ci, phi_ci):\n",
    "    p_x1 = 1 / (np.sqrt(2 * np.pi * np.maximum(phi_ci, 1e-10)))\n",
    "    p_x2 = np.exp(-((x - u_ci) ** 2) / (2 * np.maximum(phi_ci, 1e-10)))\n",
    "    p_xy = p_x1 * p_x2 \n",
    "\n",
    "    P_y = np.sum(y) / n\n",
    "    return p_xy + P_y\n",
    "X_train,X_test,y_train,y_test=train_test_split(X,y,test_size=0.3,random_state=0)\n",
    "X_new = np.array([79.09383, 96.0494934])\n",
    "u_ci2, phi_ci2 = parameter(X_train, y_train)\n",
    "y_pred = naive_bayes(X_new, y_train, u_ci2, phi_ci2)\n",
    "\n",
    "print(f\"y predict is : {y_pred}\")\n",
    "accuracy= 100 - np.mean(np.abs(y_test- y_pred)) * 100\n",
    "print(f\"accuracy of module is : {accuracy}\")\n",
    "print(f\"u_ci2 : {u_ci2} , phi_ci2 : {phi_ci2}\")"
   ]
  },
  {
   "cell_type": "code",
   "execution_count": null,
   "metadata": {},
   "outputs": [],
   "source": []
  },
  {
   "cell_type": "code",
   "execution_count": null,
   "metadata": {},
   "outputs": [],
   "source": []
  }
 ],
 "metadata": {
  "kernelspec": {
   "display_name": "Python 3",
   "language": "python",
   "name": "python3"
  },
  "language_info": {
   "codemirror_mode": {
    "name": "ipython",
    "version": 3
   },
   "file_extension": ".py",
   "mimetype": "text/x-python",
   "name": "python",
   "nbconvert_exporter": "python",
   "pygments_lexer": "ipython3",
   "version": "3.10.5"
  },
  "orig_nbformat": 4
 },
 "nbformat": 4,
 "nbformat_minor": 2
}
