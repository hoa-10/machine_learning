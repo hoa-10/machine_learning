{
 "cells": [
  {
   "cell_type": "code",
   "execution_count": 35,
   "metadata": {},
   "outputs": [],
   "source": [
    "import numpy as np\n",
    "import pandas as pd\n"
   ]
  },
  {
   "cell_type": "code",
   "execution_count": 36,
   "metadata": {},
   "outputs": [
    {
     "name": "stdout",
     "output_type": "stream",
     "text": [
      "    Age\\tannual income($)  Unnamed: 1\n",
      "0                      19          16\n",
      "1                      21          15\n",
      "2                      20          16\n",
      "3                      23          16\n",
      "4                      31          17\n",
      "5                      22          17\n",
      "6                      35          18\n",
      "7                      23          18\n",
      "8                      64          19\n",
      "9                      30          19\n",
      "10                     67          19\n",
      "11                     35          19\n",
      "12                     58          20\n",
      "13                     24          20\n",
      "14                     37          20\n",
      "15                     22          20\n"
     ]
    }
   ],
   "source": [
    "data = pd.read_csv(\"Kmean_data.csv\")\n",
    "k = 3\n",
    "centroid = data.sample(n=k).to_numpy()\n",
    "print(data)\n"
   ]
  },
  {
   "cell_type": "code",
   "execution_count": 37,
   "metadata": {},
   "outputs": [
    {
     "name": "stdout",
     "output_type": "stream",
     "text": [
      "    Age\\tannual income($)  Unnamed: 1    Group\n",
      "0                      19          16  group B\n",
      "1                      21          15  group B\n",
      "2                      20          16  group B\n",
      "3                      23          16  group B\n",
      "4                      31          17  group A\n",
      "5                      22          17  group B\n",
      "6                      35          18  group A\n",
      "7                      23          18  group B\n",
      "8                      64          19  group C\n",
      "9                      30          19  group A\n",
      "10                     67          19  group C\n",
      "11                     35          19  group A\n",
      "12                     58          20  group C\n",
      "13                     24          20  group B\n",
      "14                     37          20  group A\n",
      "15                     22          20  group B\n"
     ]
    }
   ],
   "source": [
    "\n",
    "def cluster(data, centroid):\n",
    "    distance = np.sqrt(((data - centroid[:, np.newaxis])**2).sum(axis=2))\n",
    "    return np.argmin(distance, axis=0)\n",
    "\n",
    "def update_centroid(data, cluster, k):\n",
    "    new_centroid = np.array([data[cluster == i].mean(axis=0) for i in range(k)])\n",
    "    return new_centroid\n",
    "\n",
    "for i in range(1000):\n",
    "    clusters = cluster(data.to_numpy(), centroid)\n",
    "    old_centroid = centroid.copy()\n",
    "    centroid = update_centroid(data.to_numpy(), clusters, k) \n",
    "    if np.all(old_centroid == centroid):\n",
    "        break\n",
    "\n",
    "group_names = {0: \"group A\", 1: \"group B\", 2: \"group C\"}\n",
    "named_clusters = [group_names[cluster_id] for cluster_id in clusters]\n",
    "data[\"Group\"] = named_clusters\n",
    "print(data)"
   ]
  }
 ],
 "metadata": {
  "kernelspec": {
   "display_name": "Python 3",
   "language": "python",
   "name": "python3"
  },
  "language_info": {
   "codemirror_mode": {
    "name": "ipython",
    "version": 3
   },
   "file_extension": ".py",
   "mimetype": "text/x-python",
   "name": "python",
   "nbconvert_exporter": "python",
   "pygments_lexer": "ipython3",
   "version": "3.10.5"
  }
 },
 "nbformat": 4,
 "nbformat_minor": 2
}
