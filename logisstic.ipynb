{
 "cells": [
  {
   "cell_type": "code",
   "execution_count": 9,
   "metadata": {},
   "outputs": [],
   "source": [
    "import numpy as np\n",
    "import pandas as pd\n",
    "from sklearn.model_selection import train_test_split\n",
    "import matplotlib.pyplot as plt"
   ]
  },
  {
   "cell_type": "code",
   "execution_count": 10,
   "metadata": {},
   "outputs": [
    {
     "name": "stdout",
     "output_type": "stream",
     "text": [
      "(100, 2)\n",
      "(100,)\n"
     ]
    }
   ],
   "source": [
    "data = pd.read_csv(\"data1.csv\", header=None, names=[\"Exam 1 Score\", \"Exam 2 Score\", \"Accepted\"])\n",
    "m = len(data[\"Accepted\"])\n",
    "X = data.iloc[:, [0, 1]].values\n",
    "y = data.iloc[:, 2].values\n",
    "print(X.shape)\n",
    "print(y.shape)\n"
   ]
  },
  {
   "cell_type": "code",
   "execution_count": 11,
   "metadata": {},
   "outputs": [],
   "source": [
    "def sigmoid(z):\n",
    "    return 1.0/ (1 + np.exp(-z))\n",
    "def phan_chia(p):\n",
    "    if p>= 0.5:\n",
    "        return 1\n",
    "    else:\n",
    "        return 0\n",
    "def predict(feature, weight):\n",
    "    z=np.dot(feature,weight.T)\n",
    "    return sigmoid(z)\n",
    "def cost_function(x,y,theta):\n",
    "    n=len(y)\n",
    "    prediction=predict(x,theta)\n",
    "    cost1= - y * np.log(prediction)\n",
    "    cost2= - (1- y)*np.log(1- prediction)\n",
    "    cost= cost1 + cost2\n",
    "    return np.sum(cost) /n\n",
    "def gradien_descent(x,y,theta,learning_rate):\n",
    "    n= len(y)\n",
    "    predictions= predict(x,theta)\n",
    "    gd = np.dot(x.T, (predictions - y))\n",
    "    gd = gd / n\n",
    "    gd = gd * learning_rate\n",
    "    theta = theta - gd\n",
    "    return theta\n",
    "def train(x,y,theta,learning_rate,loop):\n",
    "    cost_history = []\n",
    "    theta = gradien_descent(x,y,theta,learning_rate)\n",
    "    cost = cost_function(x,y,theta)\n",
    "    cost_history.append(cost)\n",
    "    return cost_history, theta"
   ]
  },
  {
   "cell_type": "code",
   "execution_count": 12,
   "metadata": {},
   "outputs": [
    {
     "name": "stdout",
     "output_type": "stream",
     "text": [
      " result weight :[0.11895398 0.1008448 ]\n",
      "the accuracy:[4.862892947385137]\n",
      "probabilities predict: 0.9999991279413618\n",
      "result predict: 1\n"
     ]
    }
   ],
   "source": []
  }
 ],
 "metadata": {
  "kernelspec": {
   "display_name": "Python 3",
   "language": "python",
   "name": "python3"
  },
  "language_info": {
   "codemirror_mode": {
    "name": "ipython",
    "version": 3
   },
   "file_extension": ".py",
   "mimetype": "text/x-python",
   "name": "python",
   "nbconvert_exporter": "python",
   "pygments_lexer": "ipython3",
   "version": "3.10.5"
  }
 },
 "nbformat": 4,
 "nbformat_minor": 2
}
